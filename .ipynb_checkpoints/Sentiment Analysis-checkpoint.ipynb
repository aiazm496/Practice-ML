{
 "cells": [
  {
   "cell_type": "code",
   "execution_count": 1,
   "metadata": {},
   "outputs": [],
   "source": [
    "import nltk"
   ]
  },
  {
   "cell_type": "code",
   "execution_count": 2,
   "metadata": {},
   "outputs": [],
   "source": [
    "from textblob import TextBlob"
   ]
  },
  {
   "cell_type": "code",
   "execution_count": 3,
   "metadata": {},
   "outputs": [],
   "source": [
    "modi_tweet = \"हिमाचल प्रदेश को निरंतर विकास के पथ पर आगे ले जा रहे राज्य के लोकप्रिय मुख्यमंत्री जयराम ठाकुर जी को जन्मदिन की बहुत-बहुत बधाई। उनके स्वस्थ एवं दीर्घायु जीवन के लिए शुभकामनाएं।\""
   ]
  },
  {
   "cell_type": "code",
   "execution_count": 4,
   "metadata": {},
   "outputs": [],
   "source": [
    "rahul_tweet = \"सर्दी की भीषण बारिश में टेंट की टपकती छत के नीचे जो बैठे हैं सिकुड़-ठिठुर कर वो निडर किसान अपने ही हैं, ग़ैर नहीं सरकार की क्रूरता के दृश्यों में अब कुछ और देखने को शेष नहीं\""
   ]
  },
  {
   "cell_type": "code",
   "execution_count": 5,
   "metadata": {},
   "outputs": [],
   "source": [
    "modi_blob = TextBlob(modi_tweet)  #textblob obj are like python strings(immutable)"
   ]
  },
  {
   "cell_type": "code",
   "execution_count": 6,
   "metadata": {},
   "outputs": [],
   "source": [
    "rahul_blob = TextBlob(rahul_tweet)"
   ]
  },
  {
   "cell_type": "code",
   "execution_count": 8,
   "metadata": {},
   "outputs": [
    {
     "data": {
      "text/plain": [
       "'hi'"
      ]
     },
     "execution_count": 8,
     "metadata": {},
     "output_type": "execute_result"
    }
   ],
   "source": [
    "modi_blob.detect_language()  #hi - Hindi"
   ]
  },
  {
   "cell_type": "code",
   "execution_count": 15,
   "metadata": {},
   "outputs": [],
   "source": [
    "#modi_blob = modi_blob.translate(to='en')  #translated to english"
   ]
  },
  {
   "cell_type": "code",
   "execution_count": 16,
   "metadata": {},
   "outputs": [
    {
     "data": {
      "text/plain": [
       "TextBlob(\"Many happy birthday wishes to the popular Chief Minister of the state, Jairam Thakur, who is taking Himachal Pradesh forward on the path of continuous development. Best wishes for his healthy and long life.\")"
      ]
     },
     "execution_count": 16,
     "metadata": {},
     "output_type": "execute_result"
    }
   ],
   "source": [
    "modi_blob"
   ]
  },
  {
   "cell_type": "code",
   "execution_count": 19,
   "metadata": {},
   "outputs": [],
   "source": [
    "rahul_blob = rahul_blob.translate(to = 'en')  #requres internet connection as use google's translator API."
   ]
  },
  {
   "cell_type": "code",
   "execution_count": 20,
   "metadata": {},
   "outputs": [
    {
     "data": {
      "text/plain": [
       "TextBlob(\"Those fearless farmers who are sitting under the dripping roof of the tent in the fierce rain of winter are their own, no more nothing is seen in the scenes of the cruelty of the non-government.\")"
      ]
     },
     "execution_count": 20,
     "metadata": {},
     "output_type": "execute_result"
    }
   ],
   "source": [
    "rahul_blob"
   ]
  },
  {
   "cell_type": "code",
   "execution_count": 26,
   "metadata": {},
   "outputs": [],
   "source": [
    "## polarity -1(highly negative) to +1(highly positive)"
   ]
  },
  {
   "cell_type": "code",
   "execution_count": null,
   "metadata": {},
   "outputs": [],
   "source": [
    "## subjectivity"
   ]
  },
  {
   "cell_type": "code",
   "execution_count": 60,
   "metadata": {},
   "outputs": [
    {
     "data": {
      "text/plain": [
       "[('Many', 'JJ'),\n",
       " ('happy', 'JJ'),\n",
       " ('birthday', 'NN'),\n",
       " ('wishes', 'NNS'),\n",
       " ('to', 'TO'),\n",
       " ('the', 'DT'),\n",
       " ('popular', 'JJ'),\n",
       " ('Chief', 'NNP'),\n",
       " ('Minister', 'NNP'),\n",
       " ('of', 'IN'),\n",
       " ('the', 'DT'),\n",
       " ('state', 'NN'),\n",
       " ('Jairam', 'NNP'),\n",
       " ('Thakur', 'NNP'),\n",
       " ('who', 'WP'),\n",
       " ('is', 'VBZ'),\n",
       " ('taking', 'VBG'),\n",
       " ('Himachal', 'NNP'),\n",
       " ('Pradesh', 'NNP'),\n",
       " ('forward', 'RB'),\n",
       " ('on', 'IN'),\n",
       " ('the', 'DT'),\n",
       " ('path', 'NN'),\n",
       " ('of', 'IN'),\n",
       " ('continuous', 'JJ'),\n",
       " ('development', 'NN'),\n",
       " ('Best', 'JJS'),\n",
       " ('wishes', 'NNS'),\n",
       " ('for', 'IN'),\n",
       " ('his', 'PRP$'),\n",
       " ('healthy', 'JJ'),\n",
       " ('and', 'CC'),\n",
       " ('long', 'JJ'),\n",
       " ('life', 'NN')]"
      ]
     },
     "execution_count": 60,
     "metadata": {},
     "output_type": "execute_result"
    }
   ],
   "source": [
    "modi_blob.tags"
   ]
  },
  {
   "cell_type": "code",
   "execution_count": 22,
   "metadata": {},
   "outputs": [
    {
     "name": "stdout",
     "output_type": "stream",
     "text": [
      "Sentiment(polarity=0.5583333333333333, subjectivity=0.6)\n"
     ]
    }
   ],
   "source": [
    "print(modi_blob.sentiment)  "
   ]
  },
  {
   "cell_type": "code",
   "execution_count": 23,
   "metadata": {},
   "outputs": [
    {
     "name": "stdout",
     "output_type": "stream",
     "text": [
      "Sentiment(polarity=0.175, subjectivity=0.75)\n"
     ]
    }
   ],
   "source": [
    "print(rahul_blob.sentiment)"
   ]
  },
  {
   "cell_type": "code",
   "execution_count": 43,
   "metadata": {},
   "outputs": [],
   "source": [
    "text = \"I wes not sleeeping\""
   ]
  },
  {
   "cell_type": "code",
   "execution_count": 44,
   "metadata": {},
   "outputs": [],
   "source": [
    "text_blob = TextBlob(text)"
   ]
  },
  {
   "cell_type": "code",
   "execution_count": 45,
   "metadata": {
    "scrolled": true
   },
   "outputs": [
    {
     "name": "stdout",
     "output_type": "stream",
     "text": [
      "I was not sleeping\n"
     ]
    }
   ],
   "source": [
    "print(text_blob.correct())"
   ]
  },
  {
   "cell_type": "code",
   "execution_count": null,
   "metadata": {},
   "outputs": [],
   "source": []
  },
  {
   "cell_type": "code",
   "execution_count": null,
   "metadata": {},
   "outputs": [],
   "source": []
  }
 ],
 "metadata": {
  "kernelspec": {
   "display_name": "Python 3",
   "language": "python",
   "name": "python3"
  },
  "language_info": {
   "codemirror_mode": {
    "name": "ipython",
    "version": 3
   },
   "file_extension": ".py",
   "mimetype": "text/x-python",
   "name": "python",
   "nbconvert_exporter": "python",
   "pygments_lexer": "ipython3",
   "version": "3.8.3"
  }
 },
 "nbformat": 4,
 "nbformat_minor": 4
}
